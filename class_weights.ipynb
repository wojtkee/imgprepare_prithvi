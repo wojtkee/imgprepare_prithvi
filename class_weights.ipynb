{
 "cells": [
  {
   "cell_type": "code",
   "execution_count": 1,
   "metadata": {},
   "outputs": [],
   "source": [
    "import os \n",
    "import numpy as np\n",
    "import tifffile"
   ]
  },
  {
   "cell_type": "code",
   "execution_count": 2,
   "metadata": {},
   "outputs": [],
   "source": [
    "def class_counter(dir, keyword, num_classes):\n",
    "    class_counts = np.zeros(num_classes, dtype=np.uint64)\n",
    "    \n",
    "    # Przejście przez wszystkie pliki w katalogu\n",
    "    for filename in os.listdir(dir):\n",
    "        if filename.endswith('.tif') and keyword in filename:\n",
    "            # Wczytanie obrazu maski TIFF\n",
    "            filepath = os.path.join(dir, filename)\n",
    "            mask = tifffile.imread(filepath)\n",
    "            \n",
    "            # Zliczanie wystąpień każdej klasy\n",
    "            unique_classes, counts = np.unique(mask, return_counts=True)\n",
    "            for c, count in zip(unique_classes, counts):\n",
    "                if c < num_classes:\n",
    "                    class_counts[c] += count\n",
    "    \n",
    "    return class_counts"
   ]
  },
  {
   "cell_type": "code",
   "execution_count": 3,
   "metadata": {},
   "outputs": [
    {
     "name": "stdout",
     "output_type": "stream",
     "text": [
      "Klasa 0: 11399470 wystąpień\n",
      "Klasa 1: 17768757 wystąpień\n",
      "Klasa 2: 8551902 wystąpień\n",
      "Klasa 3: 8673157 wystąpień\n",
      "Klasa 4: 1033720 wystąpień\n",
      "Klasa 5: 1676721 wystąpień\n",
      "Klasa 6: 610730 wystąpień\n",
      "Klasa 7: 932940 wystąpień\n",
      "Klasa 8: 2725008 wystąpień\n",
      "Klasa 9: 788181 wystąpień\n",
      "Klasa 10: 735117 wystąpień\n",
      "Klasa 11: 1015481 wystąpień\n",
      "Klasa 12: 2428988 wystąpień\n",
      "Klasa 13: 38850740 wystąpień\n"
     ]
    }
   ],
   "source": [
    "# Ścieżka do katalogu z maskami TIFF\n",
    "dir = r'F:\\mgr_datasets\\multi_newclass\\training_chips'\n",
    "\n",
    "# Słowo kluczowe, które występuje w nazwach plików mask\n",
    "keyword = 'mask'\n",
    "\n",
    "# Liczba klas\n",
    "num_classes = 14\n",
    "\n",
    "# Obliczenie wystąpień każdej klasy\n",
    "class_occurrences = class_counter(dir, keyword, num_classes)\n",
    "\n",
    "# Wydrukowanie wyników\n",
    "for class_index, count in enumerate(class_occurrences):\n",
    "    print(f'Klasa {class_index}: {count} wystąpień')"
   ]
  },
  {
   "cell_type": "code",
   "execution_count": 4,
   "metadata": {},
   "outputs": [
    {
     "name": "stdout",
     "output_type": "stream",
     "text": [
      "Klasa 0: Waga = 0.135443\n",
      "Klasa 1: Waga = 0.086893\n",
      "Klasa 2: Waga = 0.180542\n",
      "Klasa 3: Waga = 0.178017\n",
      "Klasa 4: Waga = 1.493609\n",
      "Klasa 5: Waga = 0.920829\n",
      "Klasa 6: Waga = 2.528079\n",
      "Klasa 7: Waga = 1.654955\n",
      "Klasa 8: Waga = 0.566594\n",
      "Klasa 9: Waga = 1.958907\n",
      "Klasa 10: Waga = 2.100310\n",
      "Klasa 11: Waga = 1.520436\n",
      "Klasa 12: Waga = 0.635645\n",
      "Klasa 13: Waga = 0.039741\n"
     ]
    }
   ],
   "source": [
    "def calculate_class_weights(class_occurrences):\n",
    "    total_occurrences = np.sum(class_occurrences)\n",
    "    class_weights = total_occurrences / (class_occurrences * len(class_occurrences))\n",
    "    class_weights /= np.sum(class_weights)  # Normalizacja, aby suma wag wynosiła 1\n",
    "    return class_weights\n",
    "\n",
    "# Liczba wystąpień każdej klasy\n",
    "# class_occurrences = np.array([9219318, 17760950, 6591864, 8669221, 1957130, 1676721, 610543, 932940, 2725008, 788181, 735117, 1015481, 5617606, 38840656])\n",
    "\n",
    "# Obliczenie wag klas\n",
    "class_weights = calculate_class_weights(class_occurrences)\n",
    "class_weights=class_weights*14\n",
    "\n",
    "# Wydrukowanie wyników\n",
    "for class_index, weight in enumerate(class_weights):\n",
    "    print(f'Klasa {class_index}: Waga = {weight:.6f}')"
   ]
  },
  {
   "cell_type": "code",
   "execution_count": 5,
   "metadata": {},
   "outputs": [
    {
     "name": "stdout",
     "output_type": "stream",
     "text": [
      "0.135443,\n",
      "0.086893,\n",
      "0.180542,\n",
      "0.178017,\n",
      "1.493609,\n",
      "0.920829,\n",
      "2.528079,\n",
      "1.654955,\n",
      "0.566594,\n",
      "1.958907,\n",
      "2.100310,\n",
      "1.520436,\n",
      "0.635645,\n",
      "0.039741,\n"
     ]
    }
   ],
   "source": [
    "for _, weight in enumerate(class_weights):\n",
    "    print(f'{weight:.6f},')"
   ]
  }
 ],
 "metadata": {
  "kernelspec": {
   "display_name": "base",
   "language": "python",
   "name": "python3"
  },
  "language_info": {
   "codemirror_mode": {
    "name": "ipython",
    "version": 3
   },
   "file_extension": ".py",
   "mimetype": "text/x-python",
   "name": "python",
   "nbconvert_exporter": "python",
   "pygments_lexer": "ipython3",
   "version": "3.9.13"
  }
 },
 "nbformat": 4,
 "nbformat_minor": 2
}
