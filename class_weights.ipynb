{
 "cells": [
  {
   "cell_type": "code",
   "execution_count": 8,
   "metadata": {},
   "outputs": [],
   "source": [
    "import os \n",
    "import numpy as np\n",
    "import tifffile"
   ]
  },
  {
   "cell_type": "code",
   "execution_count": 9,
   "metadata": {},
   "outputs": [],
   "source": [
    "def class_counter(dir, keyword, num_classes):\n",
    "    class_counts = np.zeros(num_classes, dtype=np.uint64)\n",
    "    \n",
    "    # Przejście przez wszystkie pliki w katalogu\n",
    "    for filename in os.listdir(dir):\n",
    "        if filename.endswith('.tif') and keyword in filename:\n",
    "            # Wczytanie obrazu maski TIFF\n",
    "            filepath = os.path.join(dir, filename)\n",
    "            mask = tifffile.imread(filepath)\n",
    "            \n",
    "            # Zliczanie wystąpień każdej klasy\n",
    "            unique_classes, counts = np.unique(mask, return_counts=True)\n",
    "            for c, count in zip(unique_classes, counts):\n",
    "                if c < num_classes:\n",
    "                    class_counts[c] += count\n",
    "    \n",
    "    return class_counts"
   ]
  },
  {
   "cell_type": "code",
   "execution_count": 10,
   "metadata": {},
   "outputs": [
    {
     "name": "stdout",
     "output_type": "stream",
     "text": [
      "Klasa 0: 9219318 wystąpień\n",
      "Klasa 1: 17760950 wystąpień\n",
      "Klasa 2: 6591864 wystąpień\n",
      "Klasa 3: 8669221 wystąpień\n",
      "Klasa 4: 1957130 wystąpień\n",
      "Klasa 5: 1676721 wystąpień\n",
      "Klasa 6: 610543 wystąpień\n",
      "Klasa 7: 932940 wystąpień\n",
      "Klasa 8: 2725008 wystąpień\n",
      "Klasa 9: 788181 wystąpień\n",
      "Klasa 10: 735117 wystąpień\n",
      "Klasa 11: 1015481 wystąpień\n",
      "Klasa 12: 5617606 wystąpień\n",
      "Klasa 13: 38840656 wystąpień\n"
     ]
    }
   ],
   "source": [
    "# Ścieżka do katalogu z maskami TIFF\n",
    "dir = r'F:\\mgr_datasets\\multimoj\\training_chips'\n",
    "\n",
    "# Słowo kluczowe, które występuje w nazwach plików mask\n",
    "keyword = 'mask'\n",
    "\n",
    "# Liczba klas\n",
    "num_classes = 14\n",
    "\n",
    "# Obliczenie wystąpień każdej klasy\n",
    "class_occurrences = class_counter(dir, keyword, num_classes)\n",
    "\n",
    "# Wydrukowanie wyników\n",
    "for class_index, count in enumerate(class_occurrences):\n",
    "    print(f'Klasa {class_index}: {count} wystąpień')"
   ]
  },
  {
   "cell_type": "code",
   "execution_count": 13,
   "metadata": {},
   "outputs": [
    {
     "name": "stdout",
     "output_type": "stream",
     "text": [
      "Klasa 0: Waga = 0.270093\n",
      "Klasa 1: Waga = 0.140199\n",
      "Klasa 2: Waga = 0.377749\n",
      "Klasa 3: Waga = 0.287231\n",
      "Klasa 4: Waga = 1.272306\n",
      "Klasa 5: Waga = 1.485083\n",
      "Klasa 6: Waga = 4.078450\n",
      "Klasa 7: Waga = 2.669056\n",
      "Klasa 8: Waga = 0.913784\n",
      "Klasa 9: Waga = 3.159260\n",
      "Klasa 10: Waga = 3.387310\n",
      "Klasa 11: Waga = 2.452108\n",
      "Klasa 12: Waga = 0.443262\n",
      "Klasa 13: Waga = 0.064110\n"
     ]
    }
   ],
   "source": [
    "def calculate_class_weights(class_occurrences):\n",
    "    total_occurrences = np.sum(class_occurrences)\n",
    "    class_weights = total_occurrences / (class_occurrences * len(class_occurrences))\n",
    "    class_weights /= np.sum(class_weights)  # Normalizacja, aby suma wag wynosiła 1\n",
    "    return class_weights\n",
    "\n",
    "# Liczba wystąpień każdej klasy\n",
    "class_occurrences = np.array([9219318, 17760950, 6591864, 8669221, 1957130, 1676721, 610543, 932940, 2725008, 788181, 735117, 1015481, 5617606, 38840656])\n",
    "\n",
    "# Obliczenie wag klas\n",
    "class_weights = calculate_class_weights(class_occurrences)\n",
    "class_weights=class_weights*21\n",
    "\n",
    "# Wydrukowanie wyników\n",
    "for class_index, weight in enumerate(class_weights):\n",
    "    print(f'Klasa {class_index}: Waga = {weight:.6f}')"
   ]
  }
 ],
 "metadata": {
  "kernelspec": {
   "display_name": "base",
   "language": "python",
   "name": "python3"
  },
  "language_info": {
   "codemirror_mode": {
    "name": "ipython",
    "version": 3
   },
   "file_extension": ".py",
   "mimetype": "text/x-python",
   "name": "python",
   "nbconvert_exporter": "python",
   "pygments_lexer": "ipython3",
   "version": "3.9.13"
  }
 },
 "nbformat": 4,
 "nbformat_minor": 2
}
