{
 "cells": [
  {
   "cell_type": "code",
   "execution_count": 5,
   "metadata": {},
   "outputs": [
    {
     "name": "stdout",
     "output_type": "stream",
     "text": [
      "Fold                                                            1\n",
      "ID_PATCH                                                    10000\n",
      "N_Parcel                                                      119\n",
      "Parcel_Cover                                             0.808032\n",
      "TILE                                                       t30uxv\n",
      "dates-S2        {'0': 20180924, '1': 20180929, '2': 20181004, ...\n",
      "id                                                          10000\n",
      "geometry        MULTIPOLYGON (((391504.7355450863 6956805.9152...\n",
      "Name: 0, dtype: object\n",
      "MULTIPOLYGON (((391504.7355450863 6956805.915242429, 392781.90612797183 6956707.2616562415, 392683.2488295328 6955430.101275591, 391406.092152948 6955528.748381898, 391504.7355450863 6956805.915242429)))\n"
     ]
    }
   ],
   "source": [
    "import geopandas as gpd\n",
    "from shapely.geometry import MultiPolygon  # Importuje MultiPolygon\n",
    "import tifffile\n",
    "import numpy as np\n",
    "\n",
    "\n",
    "\n",
    "# Wczytaj plik GeoJSON\n",
    "file_path = r\"F:\\mgr_datasets\\PASTIS_SMOLL\\metadata.geojson\"\n",
    "gdf = gpd.read_file(file_path)\n",
    "\n",
    "# Wyświetl ramkę danych geograficznych (GeoDataFrame)\n",
    "# print(gdf)\n",
    "first_record = gdf.iloc[0]\n",
    "print(first_record)\n",
    "\n",
    "geometry = first_record['geometry']\n",
    "print(geometry)\n",
    "\n",
    "geometry = gdf.iloc[0]\n",
    "\n",
    "# Zapisz geometrię do pliku txt\n",
    "with open(\"dane.txt\", \"w\") as txt_file:\n",
    "    txt_file.write(gdf.to_string(index=False))"
   ]
  },
  {
   "cell_type": "code",
   "execution_count": 1,
   "metadata": {},
   "outputs": [],
   "source": [
    "import numpy as np\n",
    "\n",
    "img=np.load(r'F:\\mgr_datasets\\PASTIS\\DATA_S2\\S2_10000.npy')"
   ]
  },
  {
   "cell_type": "code",
   "execution_count": 12,
   "metadata": {},
   "outputs": [],
   "source": [
    "label_img=tifffile.imread(r'F:\\mgr_datasets\\multimoj\\training_chips\\chip_001_10.mask.tif')"
   ]
  },
  {
   "cell_type": "code",
   "execution_count": 14,
   "metadata": {},
   "outputs": [],
   "source": [
    "kind=label_img.dtype.kind"
   ]
  }
 ],
 "metadata": {
  "kernelspec": {
   "display_name": "base",
   "language": "python",
   "name": "python3"
  },
  "language_info": {
   "codemirror_mode": {
    "name": "ipython",
    "version": 3
   },
   "file_extension": ".py",
   "mimetype": "text/x-python",
   "name": "python",
   "nbconvert_exporter": "python",
   "pygments_lexer": "ipython3",
   "version": "3.9.13"
  }
 },
 "nbformat": 4,
 "nbformat_minor": 2
}
